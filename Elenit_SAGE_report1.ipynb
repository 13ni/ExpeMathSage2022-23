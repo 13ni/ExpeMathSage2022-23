{
 "cells": [
  {
   "cell_type": "markdown",
   "id": "available-queens",
   "metadata": {},
   "source": [
    "problem 1: What is the value of the complex number $ (1-i)^k $, where $ k\\geq 0$.\n",
    "Our conjectures are: \n",
    "$ z^{4l}=(-1)^{l}2^{2l}$ \n",
    "$ z^{4l+1}=(-1)^{l}2^{2l}(1-i)$\n",
    "$ z^{4l+2}=(-1)^{l}2^{2l+1}(-i)$ \n",
    "$ z^{4l+3}=(-1)^{l}2^{2l+1}(-1-i)$"
   ]
  },
  {
   "cell_type": "code",
   "execution_count": 2,
   "id": "returning-terrorism",
   "metadata": {},
   "outputs": [
    {
     "name": "stdout",
     "output_type": "stream",
     "text": [
      "1\n",
      "-I + 1\n",
      "-2*I\n",
      "-2*I - 2\n",
      "-4\n",
      "4*I - 4\n",
      "8*I\n",
      "8*I + 8\n",
      "16\n",
      "-16*I + 16\n",
      "-32*I\n",
      "-32*I - 32\n",
      "-64\n",
      "64*I - 64\n",
      "128*I\n"
     ]
    }
   ],
   "source": [
    "z = 1-I\n",
    "for k in range(15):\n",
    "    print(z**k)"
   ]
  },
  {
   "cell_type": "markdown",
   "id": "african-chick",
   "metadata": {},
   "source": [
    "Therefore, the general formula is $z=\\sqrt(2)e^{-i\\frac{\\pi}{4}}$ and $z^k=(\\sqrt(2))^ke^{-ik\\frac{\\pi}{4}}$ then the proof is immediate."
   ]
  },
  {
   "cell_type": "markdown",
   "id": "distant-subcommittee",
   "metadata": {},
   "source": [
    "Problem 2: Are the Fermat numbers, i.e. numbers of the form\n",
    "$ F_n = 2^{2^n} + 1 $ all prime numbers ? \n",
    "Answer: No, all are not a prime numbers because when $ n=5 $ we have a non prime number whose factors are $641$ and $6700417$"
   ]
  },
  {
   "cell_type": "code",
   "execution_count": 14,
   "id": "unique-negotiation",
   "metadata": {},
   "outputs": [
    {
     "name": "stdout",
     "output_type": "stream",
     "text": [
      "3\n",
      "5\n",
      "17\n",
      "257\n",
      "65537\n",
      "641 * 6700417\n",
      "274177 * 67280421310721\n",
      "59649589127497217 * 5704689200685129054721\n"
     ]
    }
   ],
   "source": [
    "for n in range(8):\n",
    "    x=2^(2^n)+1\n",
    "    print(factor(x))"
   ]
  },
  {
   "cell_type": "markdown",
   "id": "alpine-thomson",
   "metadata": {},
   "source": [
    "some concepts and examples of SageMath"
   ]
  },
  {
   "cell_type": "code",
   "execution_count": 5,
   "id": "favorite-worth",
   "metadata": {},
   "outputs": [
    {
     "data": {
      "text/plain": [
       "163"
      ]
     },
     "execution_count": 5,
     "metadata": {},
     "output_type": "execute_result"
    }
   ],
   "source": [
    "1+2*3^4 # that is the priority is considered on PEMDAS. That is exponent is the first one "
   ]
  },
  {
   "cell_type": "code",
   "execution_count": 6,
   "id": "flexible-syndication",
   "metadata": {},
   "outputs": [
    {
     "data": {
      "text/plain": [
       "2/3"
      ]
     },
     "execution_count": 6,
     "metadata": {},
     "output_type": "execute_result"
    }
   ],
   "source": [
    "22/33 # SAGE does exact computations"
   ]
  },
  {
   "cell_type": "code",
   "execution_count": 10,
   "id": "hungarian-footage",
   "metadata": {},
   "outputs": [
    {
     "name": "stderr",
     "output_type": "stream",
     "text": [
      "/usr/lib/python3/dist-packages/sphinx/util/docutils.py:45: DeprecationWarning: distutils Version classes are deprecated. Use packaging.version instead.\n",
      "  __version_info__ = tuple(LooseVersion(docutils.__version__).version)\n"
     ]
    }
   ],
   "source": [
    "factor??"
   ]
  },
  {
   "cell_type": "code",
   "execution_count": null,
   "id": "endangered-concept",
   "metadata": {},
   "outputs": [],
   "source": []
  }
 ],
 "metadata": {
  "kernelspec": {
   "display_name": "SageMath 9.2",
   "language": "sage",
   "name": "sagemath"
  },
  "language_info": {
   "codemirror_mode": {
    "name": "ipython",
    "version": 3
   },
   "file_extension": ".py",
   "mimetype": "text/x-python",
   "name": "python",
   "nbconvert_exporter": "python",
   "pygments_lexer": "ipython3",
   "version": "3.9.2"
  }
 },
 "nbformat": 4,
 "nbformat_minor": 5
}
